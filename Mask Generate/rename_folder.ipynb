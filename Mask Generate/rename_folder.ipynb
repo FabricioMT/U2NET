{
 "cells": [
  {
   "cell_type": "code",
   "execution_count": null,
   "id": "97437ee1",
   "metadata": {},
   "outputs": [],
   "source": []
  },
  {
   "cell_type": "markdown",
   "id": "1200fedf",
   "metadata": {},
   "source": [
    "RENAME"
   ]
  },
  {
   "cell_type": "code",
   "execution_count": 2,
   "metadata": {},
   "outputs": [],
   "source": [
    "import os\n",
    "\n",
    "def main():\n",
    "\n",
    "\tfolder = r\"C:\\Users\\fabri\\OneDrive\\Área de Trabalho\\Py Script\\U-2-Net\\PicStone-Bg-Output\"\n",
    "\tfor count, filename in enumerate(os.listdir(folder)):\n",
    "\t\tdst = f\"{str(count)}.png\"\n",
    "\t\tsrc =f\"{folder}/{filename}\"\n",
    "\t\tdst =f\"{folder}/{dst}\"\n",
    "\t\tos.rename(src, dst)\n",
    "\n",
    "if __name__ == '__main__':\n",
    "\tmain()\n"
   ]
  },
  {
   "cell_type": "markdown",
   "id": "aadc3527",
   "metadata": {},
   "source": [
    "File for File in DIR"
   ]
  },
  {
   "cell_type": "code",
   "execution_count": null,
   "id": "8caf2916",
   "metadata": {},
   "outputs": [],
   "source": [
    "import os, shutil\n",
    "import pathlib as pl\n",
    "\n",
    "srcPath = r\"D:/data_test/PS/\"\n",
    "destPath = r\"\"\n",
    "files = os.listdir(srcPath)\n",
    "\n",
    "verify = 0\n",
    "Nverify = 0\n",
    "rev = []\n",
    "for num, file in enumerate(files):\n",
    "    count = f\"{str(num)}.png\"\n",
    "    filename = pl.PurePath(file[:0]+count).name\n",
    "    verify = os.path.isfile(srcPath+count)\n",
    "\n",
    "    if verify == False:\n",
    "        print(num)\n",
    "        rev.append(f\"{str(num)}.jpg\")\n",
    "        #m = shutil.move(srcPath + filename, destPath + filename)\n",
    "        #print(m)\n",
    "        Nverify = Nverify+1\n",
    "\n",
    "    if str(count) == filename:\n",
    "        \n",
    "        pass\n",
    "        #m = shutil.move(srcPath + filename, destPath + filename[9:])\n",
    "\n",
    "#print(Nverify)"
   ]
  },
  {
   "cell_type": "markdown",
   "id": "994d80a2",
   "metadata": {},
   "source": [
    "Mover Arquivos encontrados acima"
   ]
  },
  {
   "cell_type": "code",
   "execution_count": null,
   "id": "83b0a51a",
   "metadata": {},
   "outputs": [],
   "source": [
    "srcPath = r\"\"\n",
    "destPath = r\"\"\n",
    "files = os.listdir(srcPath)\n",
    "\n",
    "for num, file in enumerate(files):\n",
    "    count = f\"{str(num)}.jpg\"\n",
    "    filename = pl.PurePath(file[:0]+count).name\n",
    "    verify = os.path.isfile(srcPath+count)\n",
    "\n",
    "    for x in rev:\n",
    "        if x == filename:\n",
    "            #print(srcPath + filename)\n",
    "            m = shutil.move(srcPath + filename, destPath + filename)\n",
    "            print(m)\n"
   ]
  },
  {
   "cell_type": "markdown",
   "id": "d845b861",
   "metadata": {},
   "source": [
    "Dividir arquivos"
   ]
  },
  {
   "cell_type": "code",
   "execution_count": null,
   "id": "61261beb",
   "metadata": {},
   "outputs": [],
   "source": [
    "import os, shutil\n",
    "\n",
    "srcPath = './oldPath/'\n",
    "destPath = './newPath/'\n",
    "files = os.listdir(srcPath)\n",
    "\n",
    "for file in files[:len(files)//2]:\n",
    "    shutil.move(srcPath + file, destPath + file)"
   ]
  }
 ],
 "metadata": {
  "kernelspec": {
   "display_name": "Python 3.9.12 ('base')",
   "language": "python",
   "name": "python3"
  },
  "language_info": {
   "codemirror_mode": {
    "name": "ipython",
    "version": 3
   },
   "file_extension": ".py",
   "mimetype": "text/x-python",
   "name": "python",
   "nbconvert_exporter": "python",
   "pygments_lexer": "ipython3",
   "version": "3.9.12"
  },
  "vscode": {
   "interpreter": {
    "hash": "e6d67bf77025d748772b843bcacfdcb5a8247f14740a6d44b4b3ceee657fb5e4"
   }
  }
 },
 "nbformat": 4,
 "nbformat_minor": 5
}
