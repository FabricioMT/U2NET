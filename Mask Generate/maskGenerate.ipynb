{
 "cells": [
  {
   "cell_type": "code",
   "execution_count": 19,
   "metadata": {},
   "outputs": [
    {
     "name": "stdout",
     "output_type": "stream",
     "text": [
      "Total Images : 12\n",
      "Image Mask Create  C:\\Users\\fabri\\OneDrive\\Área de Trabalho\\Py Script\\U-2-Net\\PicStone-Bg-Output/0.png\n",
      "Image Mask Create  C:\\Users\\fabri\\OneDrive\\Área de Trabalho\\Py Script\\U-2-Net\\PicStone-Bg-Output/1.png\n",
      "Image Mask Create  C:\\Users\\fabri\\OneDrive\\Área de Trabalho\\Py Script\\U-2-Net\\PicStone-Bg-Output/2.png\n",
      "Image Mask Create  C:\\Users\\fabri\\OneDrive\\Área de Trabalho\\Py Script\\U-2-Net\\PicStone-Bg-Output/3.png\n",
      "Image Mask Create  C:\\Users\\fabri\\OneDrive\\Área de Trabalho\\Py Script\\U-2-Net\\PicStone-Bg-Output/4.png\n",
      "Image Mask Create  C:\\Users\\fabri\\OneDrive\\Área de Trabalho\\Py Script\\U-2-Net\\PicStone-Bg-Output/5.png\n",
      "Image Mask Create  C:\\Users\\fabri\\OneDrive\\Área de Trabalho\\Py Script\\U-2-Net\\PicStone-Bg-Output/6.png\n",
      "Image Mask Create  C:\\Users\\fabri\\OneDrive\\Área de Trabalho\\Py Script\\U-2-Net\\PicStone-Bg-Output/7.png\n",
      "Image Mask Create  C:\\Users\\fabri\\OneDrive\\Área de Trabalho\\Py Script\\U-2-Net\\PicStone-Bg-Output/8.png\n",
      "Image Mask Create  C:\\Users\\fabri\\OneDrive\\Área de Trabalho\\Py Script\\U-2-Net\\PicStone-Bg-Output/9.png\n",
      "Image Mask Create  C:\\Users\\fabri\\OneDrive\\Área de Trabalho\\Py Script\\U-2-Net\\PicStone-Bg-Output/10.png\n",
      "Image Mask Create  C:\\Users\\fabri\\OneDrive\\Área de Trabalho\\Py Script\\U-2-Net\\PicStone-Bg-Output/11.png\n"
     ]
    }
   ],
   "source": [
    "import os, shutil, cv2\n",
    "import pathlib as pl\n",
    "import numpy as np\n",
    "\n",
    "def createMask(img):\n",
    "\timage = cv2.imread(img, cv2.IMREAD_UNCHANGED)\n",
    "\timage_gray = cv2.cvtColor(image, cv2.COLOR_BGR2GRAY)\n",
    "\tret, image_edges = cv2.threshold(image_gray, 0, 255, cv2.THRESH_BINARY)\n",
    "\tmask = np.zeros(image_gray.shape, np.float32)\n",
    "\tmask.fill(0)\n",
    "\n",
    "\tcontours, hierarchyct = cv2.findContours(image=image_edges,mode=cv2.RETR_EXTERNAL,method=cv2.CHAIN_APPROX_NONE)\n",
    "\t#thickness=-1\n",
    "\tcv2.drawContours(image=mask,contours=contours,contourIdx=-1,color=(255,255,255),thickness=-1)\n",
    "\treturn mask\n",
    "\n",
    "def createContours(img):\n",
    "\timage = cv2.imread(img, cv2.IMREAD_UNCHANGED)\n",
    "\timage_gray = cv2.cvtColor(image, cv2.COLOR_BGR2GRAY)\n",
    "\tret, image_edges = cv2.threshold(image_gray, 0, 255, cv2.THRESH_BINARY)\n",
    "\tmask = np.zeros(image_gray.shape, np.float32)\n",
    "\tmask.fill(255)\n",
    "\n",
    "\tcontours, hierarchyct = cv2.findContours(image=image_edges,mode=cv2.RETR_EXTERNAL,method=cv2.CHAIN_APPROX_NONE)\n",
    "\t#thickness=-1\n",
    "\tcv2.drawContours(image=mask,contours=contours,contourIdx=-1,color=(0,0,0),thickness=1)\n",
    "\treturn mask\n",
    "\n",
    "def threshold(img):\n",
    "\tsrc = cv2.imread(img, cv2.IMREAD_GRAYSCALE)\n",
    "\tth, dst = cv2.threshold(src, 0, 255, cv2.THRESH_BINARY)\n",
    "\treturn dst\n",
    "\n",
    "def createMaskFolder():\n",
    "\tsrcPath = r\"C:\\Users\\fabri\\OneDrive\\Área de Trabalho\\Py Script\\U-2-Net\\PicStone-Bg-Output/\"\n",
    "\tdestPath = r\"C:\\Users\\fabri\\OneDrive\\Área de Trabalho\\Py Script\\U-2-Net\\contours/\"\n",
    "\tfiles = os.listdir(srcPath)\n",
    "\tn = 0\n",
    "\tfinish = len(files)\n",
    "\tprint('Total Images :',finish)\n",
    "\tfor num, file in enumerate(files):\n",
    "\t\tcount = f\"{str(n)}.png\"\n",
    "\t\tif n == finish: return 0\n",
    "\t\tfilename = pl.PurePath(file[:0]+count).name\n",
    "\t\tif str(count) == filename:\n",
    "\t\t\tmask = createContours(srcPath + filename)\n",
    "\t\t\tcv2.imwrite(destPath + count,mask)\n",
    "\t\t\tprint(\"Image Mask Create \",srcPath + filename)\n",
    "\t\t\tcv2.waitKey(0)\n",
    "\t\t\tcv2.destroyAllWindows()\n",
    "\t\t\t\n",
    "\t\tn = n+1\n",
    "\n",
    "if __name__ == '__main__':\n",
    "\tcreateMaskFolder()\n",
    "\n",
    "\t# mask = createMask(r\"C:\\Users\\fabri\\OneDrive\\Área de Trabalho\\Py Script\\U-2-Net\\PicStone-Bg-Output\\11.png\")\n",
    "\t# # contour = createContours(r\"C:\\Users\\fabri\\OneDrive\\Área de Trabalho\\Py Script\\U-2-Net\\PicStone-Bg-Output\\8cbe74bd-391c-4b70-a33f-c2a388b46be6.png\")\n",
    "\t# # #mask2 = createMask(r\"C:\\Users\\fabri\\OneDrive\\Área de Trabalho\\RedesNeurais\\rembg-test\\to\\output\\2.png\")\n",
    "\t# # #contour2 = createContours(r\"C:\\Users\\fabri\\OneDrive\\Área de Trabalho\\RedesNeurais\\rembg-test\\to\\output\\2.png\")\n",
    "\t# cv2.imshow(\"mask\",mask)\n",
    "\t# # #cv2.imwrite(\"contour.png\",contour)\n",
    "\t# # #cv2.imshow(\"mask2\",mask2)\n",
    "\t# # cv2.imshow(\"contour2\",contour)\n",
    "\t# cv2.waitKey(0)\n",
    "\t# cv2.destroyAllWindows()\n"
   ]
  }
 ],
 "metadata": {
  "kernelspec": {
   "display_name": "Python 3.9.12 ('base')",
   "language": "python",
   "name": "python3"
  },
  "language_info": {
   "codemirror_mode": {
    "name": "ipython",
    "version": 3
   },
   "file_extension": ".py",
   "mimetype": "text/x-python",
   "name": "python",
   "nbconvert_exporter": "python",
   "pygments_lexer": "ipython3",
   "version": "3.9.12"
  },
  "vscode": {
   "interpreter": {
    "hash": "e6d67bf77025d748772b843bcacfdcb5a8247f14740a6d44b4b3ceee657fb5e4"
   }
  }
 },
 "nbformat": 4,
 "nbformat_minor": 5
}
